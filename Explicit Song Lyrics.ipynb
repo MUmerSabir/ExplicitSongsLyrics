{
 "cells": [
  {
   "cell_type": "code",
   "execution_count": 1,
   "metadata": {},
   "outputs": [],
   "source": [
    "import pandas as pd"
   ]
  },
  {
   "cell_type": "code",
   "execution_count": 2,
   "metadata": {},
   "outputs": [
    {
     "data": {
      "text/html": [
       "<div>\n",
       "<style scoped>\n",
       "    .dataframe tbody tr th:only-of-type {\n",
       "        vertical-align: middle;\n",
       "    }\n",
       "\n",
       "    .dataframe tbody tr th {\n",
       "        vertical-align: top;\n",
       "    }\n",
       "\n",
       "    .dataframe thead th {\n",
       "        text-align: right;\n",
       "    }\n",
       "</style>\n",
       "<table border=\"1\" class=\"dataframe\">\n",
       "  <thead>\n",
       "    <tr style=\"text-align: right;\">\n",
       "      <th></th>\n",
       "      <th>artist_all</th>\n",
       "      <th>artist_base</th>\n",
       "      <th>rank</th>\n",
       "      <th>song</th>\n",
       "      <th>year</th>\n",
       "      <th>artist_featured</th>\n",
       "      <th>song_clean</th>\n",
       "      <th>artist_clean</th>\n",
       "      <th>lyrics</th>\n",
       "      <th>acousticness</th>\n",
       "      <th>...</th>\n",
       "      <th>speechiness</th>\n",
       "      <th>tempo</th>\n",
       "      <th>time_signature</th>\n",
       "      <th>valence</th>\n",
       "      <th>duration_min</th>\n",
       "      <th>num_words</th>\n",
       "      <th>words_per_sec</th>\n",
       "      <th>num_uniq_words</th>\n",
       "      <th>decade</th>\n",
       "      <th>uniq_ratio</th>\n",
       "    </tr>\n",
       "  </thead>\n",
       "  <tbody>\n",
       "    <tr>\n",
       "      <th>0</th>\n",
       "      <td>percy faith</td>\n",
       "      <td>percy faith</td>\n",
       "      <td>1</td>\n",
       "      <td>theme from a summer place</td>\n",
       "      <td>1960</td>\n",
       "      <td>NaN</td>\n",
       "      <td>theme from a summer place</td>\n",
       "      <td>percy faith</td>\n",
       "      <td>theres a summer place where it may rain or sto...</td>\n",
       "      <td>0.631</td>\n",
       "      <td>...</td>\n",
       "      <td>0.0253</td>\n",
       "      <td>92.631</td>\n",
       "      <td>4.0</td>\n",
       "      <td>0.749</td>\n",
       "      <td>2.414883</td>\n",
       "      <td>104.0</td>\n",
       "      <td>0.717771</td>\n",
       "      <td>58.0</td>\n",
       "      <td>1960</td>\n",
       "      <td>1.793103</td>\n",
       "    </tr>\n",
       "    <tr>\n",
       "      <th>1</th>\n",
       "      <td>jim reeves</td>\n",
       "      <td>jim reeves</td>\n",
       "      <td>2</td>\n",
       "      <td>he'll have to go</td>\n",
       "      <td>1960</td>\n",
       "      <td>NaN</td>\n",
       "      <td>hell have to go</td>\n",
       "      <td>jim reeves</td>\n",
       "      <td>put your sweet lips a little closer to the pho...</td>\n",
       "      <td>0.909</td>\n",
       "      <td>...</td>\n",
       "      <td>0.0379</td>\n",
       "      <td>81.181</td>\n",
       "      <td>3.0</td>\n",
       "      <td>0.200</td>\n",
       "      <td>2.310667</td>\n",
       "      <td>152.0</td>\n",
       "      <td>1.096365</td>\n",
       "      <td>69.0</td>\n",
       "      <td>1960</td>\n",
       "      <td>2.202899</td>\n",
       "    </tr>\n",
       "  </tbody>\n",
       "</table>\n",
       "<p>2 rows × 30 columns</p>\n",
       "</div>"
      ],
      "text/plain": [
       "    artist_all  artist_base  rank                       song  year  \\\n",
       "0  percy faith  percy faith     1  theme from a summer place  1960   \n",
       "1   jim reeves   jim reeves     2           he'll have to go  1960   \n",
       "\n",
       "  artist_featured                 song_clean artist_clean  \\\n",
       "0             NaN  theme from a summer place  percy faith   \n",
       "1             NaN            hell have to go   jim reeves   \n",
       "\n",
       "                                              lyrics  acousticness    ...      \\\n",
       "0  theres a summer place where it may rain or sto...         0.631    ...       \n",
       "1  put your sweet lips a little closer to the pho...         0.909    ...       \n",
       "\n",
       "   speechiness   tempo  time_signature  valence  duration_min  num_words  \\\n",
       "0       0.0253  92.631             4.0    0.749      2.414883      104.0   \n",
       "1       0.0379  81.181             3.0    0.200      2.310667      152.0   \n",
       "\n",
       "   words_per_sec  num_uniq_words  decade uniq_ratio  \n",
       "0       0.717771            58.0    1960   1.793103  \n",
       "1       1.096365            69.0    1960   2.202899  \n",
       "\n",
       "[2 rows x 30 columns]"
      ]
     },
     "execution_count": 2,
     "metadata": {},
     "output_type": "execute_result"
    }
   ],
   "source": [
    "data=pd.read_csv('billboard-lyrics-spotify.csv')\n",
    "data.head(2)"
   ]
  },
  {
   "cell_type": "code",
   "execution_count": 9,
   "metadata": {},
   "outputs": [],
   "source": [
    "import spotipy\n",
    "spotify = spotipy.Spotify()\n",
    "import sys\n",
    "import pandas as pd\n",
    "from spotipy.oauth2 import SpotifyClientCredentials\n",
    "from bs4 import BeautifulSoup\n",
    "import requests\n",
    "import lxml\n"
   ]
  },
  {
   "cell_type": "code",
   "execution_count": 11,
   "metadata": {},
   "outputs": [],
   "source": [
    "def get_spotify_credentials(filename):\n",
    "    if filename is None:\n",
    "        raise IOError('Credentials file is none.')\n",
    "\n",
    "    f = open(filename)\n",
    "\n",
    "    txt = f.readlines()\n",
    "    client_id = None\n",
    "    client_secret = None\n",
    "    for l in txt:\n",
    "        l = l.replace('\\n', '').split(' ')\n",
    "        if l[0] == 'client_id':\n",
    "            client_id = l[1]\n",
    "        elif l[0] == 'client_secret':\n",
    "            client_secret = l[1]\n",
    "\n",
    "    client_credentials_manager = SpotifyClientCredentials(client_id=client_id, client_secret=client_secret)\n",
    "    sp = spotipy.Spotify(client_credentials_manager=client_credentials_manager)\n",
    "    sp.trace = True\n",
    "\n",
    "    return sp\n",
    "\n",
    "def get_spotify_data(artist_name, credentials_file):\n",
    "\n",
    "    # get authorisation stuff\n",
    "    sp = get_spotify_credentials(credentials_file)\n",
    "\n",
    "    # first get spotify artist uri\n",
    "    results = sp.search(q='artist:' + artist_name, type='artist')\n",
    "    items = results['artists']['items']\n",
    "    if len(items) > 0:\n",
    "        artist = items[0]\n",
    "\n",
    "    uri = artist['uri']\n",
    "\n",
    "    # now get album uris\n",
    "    results = sp.artist_albums(uri, album_type='album')\n",
    "    albums = results['items']\n",
    "    while results['next']:\n",
    "        results = sp.next(results)\n",
    "        albums.extend(results['items'])\n",
    "\n",
    "    uris = []\n",
    "    track_names = []\n",
    "    album_names = []\n",
    "\n",
    "    # get track data\n",
    "    for album in albums:\n",
    "        for t in sp.album(album['uri'])['tracks']['items']:\n",
    "            uris.append(t['uri'])\n",
    "            track_names.append(t['name'])\n",
    "            album_names.append(album['name'])\n",
    "    features = []\n",
    "    for i in range(len(uris)// 100 + 1):\n",
    "        fs = sp.audio_features(uris[i*100:min((i+1)*100, len(uris))])\n",
    "        if fs[0] is not None:\n",
    "            features.extend(fs)\n",
    "\n",
    "    # make dataframe\n",
    "    dat = pd.DataFrame(features)\n",
    "    dat['track_name'] = track_names\n",
    "    dat['album'] = album_names\n",
    "    dat['artists'] = artist_name\n",
    "\n",
    "    # ignore live, remix and deluxe album versions\n",
    "    mask = [('live' not in s.lower() and 'deluxe' not in s.lower()\n",
    "             and 'remix' not in s.lower() and 'rmx' not in s.lower()\n",
    "            and 'remastered' not in s.lower()) for s in dat.album.values]\n",
    "    dat = dat[mask]\n",
    "    mask2 = [(('remix' not in s.lower()) and\n",
    "              'remastered' not in s.lower() and 'live' not in s.lower()\n",
    "             and 'version' not in s.lower()) for s in dat.track_name.values]\n",
    "    dat = dat[mask2]\n",
    "\n",
    "    dat.set_index('track_name', inplace=True)\n",
    "    dat.drop_duplicates(inplace=True)\n",
    "    dat = dat[~dat.index.duplicated(keep='first')]\n",
    "\n",
    "    return dat\n"
   ]
  },
  {
   "cell_type": "code",
   "execution_count": null,
   "metadata": {},
   "outputs": [],
   "source": []
  },
  {
   "cell_type": "code",
   "execution_count": 7,
   "metadata": {},
   "outputs": [
    {
     "ename": "ImportError",
     "evalue": "No module named 'spotipy'",
     "output_type": "error",
     "traceback": [
      "\u001b[1;31m---------------------------------------------------------------------------\u001b[0m",
      "\u001b[1;31mImportError\u001b[0m                               Traceback (most recent call last)",
      "\u001b[1;32m<ipython-input-7-a5a842860c4e>\u001b[0m in \u001b[0;36m<module>\u001b[1;34m()\u001b[0m\n\u001b[1;32m----> 1\u001b[1;33m \u001b[1;32mimport\u001b[0m \u001b[0mspotipy\u001b[0m \u001b[1;32mas\u001b[0m \u001b[0msp\u001b[0m\u001b[1;33m\u001b[0m\u001b[0m\n\u001b[0m\u001b[0;32m      2\u001b[0m \u001b[1;32mdef\u001b[0m \u001b[0mget_explicit_label\u001b[0m\u001b[1;33m(\u001b[0m\u001b[0martist\u001b[0m\u001b[1;33m,\u001b[0m \u001b[0msong\u001b[0m\u001b[1;33m)\u001b[0m\u001b[1;33m:\u001b[0m\u001b[1;33m\u001b[0m\u001b[0m\n\u001b[0;32m      3\u001b[0m     \u001b[0mlabel\u001b[0m \u001b[1;33m=\u001b[0m \u001b[1;34m''\u001b[0m\u001b[1;33m\u001b[0m\u001b[0m\n\u001b[0;32m      4\u001b[0m     \u001b[0mresults\u001b[0m \u001b[1;33m=\u001b[0m \u001b[0msp\u001b[0m\u001b[1;33m.\u001b[0m\u001b[0msearch\u001b[0m\u001b[1;33m(\u001b[0m\u001b[0mq\u001b[0m\u001b[1;33m=\u001b[0m\u001b[0msong\u001b[0m\u001b[1;33m,\u001b[0m \u001b[0mtype\u001b[0m\u001b[1;33m=\u001b[0m\u001b[1;34m'track'\u001b[0m\u001b[1;33m,\u001b[0m \u001b[0mlimit\u001b[0m\u001b[1;33m=\u001b[0m\u001b[1;36m5\u001b[0m\u001b[1;33m)\u001b[0m\u001b[1;33m\u001b[0m\u001b[0m\n\u001b[0;32m      5\u001b[0m     \u001b[1;32mif\u001b[0m \u001b[0mlen\u001b[0m\u001b[1;33m(\u001b[0m\u001b[0mresults\u001b[0m\u001b[1;33m[\u001b[0m\u001b[1;34m'tracks'\u001b[0m\u001b[1;33m]\u001b[0m\u001b[1;33m[\u001b[0m\u001b[1;34m'items'\u001b[0m\u001b[1;33m]\u001b[0m\u001b[1;33m)\u001b[0m\u001b[1;33m>\u001b[0m\u001b[1;36m0\u001b[0m\u001b[1;33m:\u001b[0m\u001b[1;33m\u001b[0m\u001b[0m\n",
      "\u001b[1;31mImportError\u001b[0m: No module named 'spotipy'"
     ]
    }
   ],
   "source": [
    "import spotipy as sp\n",
    "def get_explicit_label(artist, song):\n",
    "    label = ''\n",
    "    results = sp.search(q=song, type='track', limit=5)\n",
    "    if len(results['tracks']['items'])>0:\n",
    "        for t in results['tracks']['items']:\n",
    "            if t['artists'][0]['name'] == artist:\n",
    "                label = t['explicit']\n",
    "                break\n",
    "            else:\n",
    "                label = 'no match'\n",
    "    else:\n",
    "        label = 'no match'\n",
    "    print(label)\n",
    "    return label"
   ]
  },
  {
   "cell_type": "code",
   "execution_count": 4,
   "metadata": {},
   "outputs": [
    {
     "ename": "NameError",
     "evalue": "name 'sp' is not defined",
     "output_type": "error",
     "traceback": [
      "\u001b[1;31m---------------------------------------------------------------------------\u001b[0m",
      "\u001b[1;31mNameError\u001b[0m                                 Traceback (most recent call last)",
      "\u001b[1;32m<ipython-input-4-deec9637f598>\u001b[0m in \u001b[0;36m<module>\u001b[1;34m()\u001b[0m\n\u001b[1;32m----> 1\u001b[1;33m \u001b[0mget_explicit_label\u001b[0m\u001b[1;33m(\u001b[0m\u001b[0mdata\u001b[0m\u001b[1;33m.\u001b[0m\u001b[0martist_clean\u001b[0m\u001b[1;33m,\u001b[0m \u001b[0mdata\u001b[0m\u001b[1;33m.\u001b[0m\u001b[0mlyrics\u001b[0m\u001b[1;33m)\u001b[0m\u001b[1;33m\u001b[0m\u001b[0m\n\u001b[0m",
      "\u001b[1;32m<ipython-input-3-d4727315ffe0>\u001b[0m in \u001b[0;36mget_explicit_label\u001b[1;34m(artist, song)\u001b[0m\n\u001b[0;32m      1\u001b[0m \u001b[1;32mdef\u001b[0m \u001b[0mget_explicit_label\u001b[0m\u001b[1;33m(\u001b[0m\u001b[0martist\u001b[0m\u001b[1;33m,\u001b[0m \u001b[0msong\u001b[0m\u001b[1;33m)\u001b[0m\u001b[1;33m:\u001b[0m\u001b[1;33m\u001b[0m\u001b[0m\n\u001b[0;32m      2\u001b[0m     \u001b[0mlabel\u001b[0m \u001b[1;33m=\u001b[0m \u001b[1;34m''\u001b[0m\u001b[1;33m\u001b[0m\u001b[0m\n\u001b[1;32m----> 3\u001b[1;33m     \u001b[0mresults\u001b[0m \u001b[1;33m=\u001b[0m \u001b[0msp\u001b[0m\u001b[1;33m.\u001b[0m\u001b[0msearch\u001b[0m\u001b[1;33m(\u001b[0m\u001b[0mq\u001b[0m\u001b[1;33m=\u001b[0m\u001b[0msong\u001b[0m\u001b[1;33m,\u001b[0m \u001b[0mtype\u001b[0m\u001b[1;33m=\u001b[0m\u001b[1;34m'track'\u001b[0m\u001b[1;33m,\u001b[0m \u001b[0mlimit\u001b[0m\u001b[1;33m=\u001b[0m\u001b[1;36m5\u001b[0m\u001b[1;33m)\u001b[0m\u001b[1;33m\u001b[0m\u001b[0m\n\u001b[0m\u001b[0;32m      4\u001b[0m     \u001b[1;32mif\u001b[0m \u001b[0mlen\u001b[0m\u001b[1;33m(\u001b[0m\u001b[0mresults\u001b[0m\u001b[1;33m[\u001b[0m\u001b[1;34m'tracks'\u001b[0m\u001b[1;33m]\u001b[0m\u001b[1;33m[\u001b[0m\u001b[1;34m'items'\u001b[0m\u001b[1;33m]\u001b[0m\u001b[1;33m)\u001b[0m\u001b[1;33m>\u001b[0m\u001b[1;36m0\u001b[0m\u001b[1;33m:\u001b[0m\u001b[1;33m\u001b[0m\u001b[0m\n\u001b[0;32m      5\u001b[0m         \u001b[1;32mfor\u001b[0m \u001b[0mt\u001b[0m \u001b[1;32min\u001b[0m \u001b[0mresults\u001b[0m\u001b[1;33m[\u001b[0m\u001b[1;34m'tracks'\u001b[0m\u001b[1;33m]\u001b[0m\u001b[1;33m[\u001b[0m\u001b[1;34m'items'\u001b[0m\u001b[1;33m]\u001b[0m\u001b[1;33m:\u001b[0m\u001b[1;33m\u001b[0m\u001b[0m\n",
      "\u001b[1;31mNameError\u001b[0m: name 'sp' is not defined"
     ]
    }
   ],
   "source": [
    "get_explicit_label(data.artist_clean, data.lyrics)"
   ]
  },
  {
   "cell_type": "code",
   "execution_count": 8,
   "metadata": {},
   "outputs": [
    {
     "name": "stdout",
     "output_type": "stream",
     "text": [
      "Collecting spotipy\n",
      "  Downloading spotipy-2.16.1-py3-none-any.whl (24 kB)\n",
      "Requirement already satisfied: six>=1.10.0 in c:\\users\\muhammad umer\\anaconda3\\lib\\site-packages (from spotipy) (1.11.0)\n",
      "Requirement already satisfied: requests>=2.20.0 in c:\\users\\muhammad umer\\anaconda3\\lib\\site-packages (from spotipy) (2.21.0)\n",
      "Requirement already satisfied: certifi>=2017.4.17 in c:\\users\\muhammad umer\\anaconda3\\lib\\site-packages (from requests>=2.20.0->spotipy) (2018.11.29)\n",
      "Requirement already satisfied: idna<2.9,>=2.5 in c:\\users\\muhammad umer\\anaconda3\\lib\\site-packages (from requests>=2.20.0->spotipy) (2.7)\n",
      "Requirement already satisfied: chardet<3.1.0,>=3.0.2 in c:\\users\\muhammad umer\\anaconda3\\lib\\site-packages (from requests>=2.20.0->spotipy) (3.0.4)\n",
      "Requirement already satisfied: urllib3<1.25,>=1.21.1 in c:\\users\\muhammad umer\\anaconda3\\lib\\site-packages (from requests>=2.20.0->spotipy) (1.24.1)\n",
      "Installing collected packages: spotipy\n",
      "Successfully installed spotipy-2.16.1\n"
     ]
    },
    {
     "name": "stderr",
     "output_type": "stream",
     "text": [
      "WARNING: You are using pip version 20.2.2; however, version 20.2.4 is available.\n",
      "You should consider upgrading via the 'c:\\users\\muhammad umer\\anaconda3\\python.exe -m pip install --upgrade pip' command.\n"
     ]
    }
   ],
   "source": [
    "!pip install spotipy"
   ]
  }
 ],
 "metadata": {
  "kernelspec": {
   "display_name": "Python [conda env:Anaconda3]",
   "language": "python",
   "name": "conda-env-Anaconda3-py"
  },
  "language_info": {
   "codemirror_mode": {
    "name": "ipython",
    "version": 3
   },
   "file_extension": ".py",
   "mimetype": "text/x-python",
   "name": "python",
   "nbconvert_exporter": "python",
   "pygments_lexer": "ipython3",
   "version": "3.5.6"
  }
 },
 "nbformat": 4,
 "nbformat_minor": 2
}
